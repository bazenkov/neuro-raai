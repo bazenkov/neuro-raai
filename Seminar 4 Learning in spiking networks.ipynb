{
 "cells": [
  {
   "cell_type": "markdown",
   "id": "9f693206",
   "metadata": {},
   "source": [
    "# Plasticity and learning\n",
    "\n",
    "1. Spike Timing Dependent Plasticity\n",
    "2. Unsupervised learning\n",
    "3. Classification\n",
    "https://brian2.readthedocs.io/en/stable/resources/tutorials/2-intro-to-brian-synapses.html#more-complex-synapse-models-stdp\n"
   ]
  },
  {
   "cell_type": "code",
   "execution_count": null,
   "id": "1832ba33",
   "metadata": {
    "collapsed": true
   },
   "outputs": [],
   "source": []
  }
 ],
 "metadata": {
  "kernelspec": {
   "display_name": "Python 3",
   "language": "python",
   "name": "python3"
  },
  "language_info": {
   "codemirror_mode": {
    "name": "ipython",
    "version": 3
   },
   "file_extension": ".py",
   "mimetype": "text/x-python",
   "name": "python",
   "nbconvert_exporter": "python",
   "pygments_lexer": "ipython3",
   "version": "3.6.13"
  }
 },
 "nbformat": 4,
 "nbformat_minor": 5
}
